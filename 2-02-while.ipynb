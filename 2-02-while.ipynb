{
 "cells": [
  {
   "cell_type": "code",
   "execution_count": 3,
   "metadata": {
    "ExecuteTime": {
     "end_time": "2020-09-20T23:48:23.478836Z",
     "start_time": "2020-09-20T23:48:23.473833Z"
    }
   },
   "outputs": [],
   "source": [
    "from datetime import datetime"
   ]
  },
  {
   "cell_type": "code",
   "execution_count": 4,
   "metadata": {
    "ExecuteTime": {
     "end_time": "2020-09-20T23:48:25.206425Z",
     "start_time": "2020-09-20T23:48:25.193429Z"
    }
   },
   "outputs": [
    {
     "name": "stdout",
     "output_type": "stream",
     "text": [
      "x é atualmente:  0\n",
      "2020-09-20 20:48:25.196426\n",
      "\n",
      "x é atualmente:  1\n",
      "2020-09-20 20:48:25.196426\n",
      "\n",
      "x é atualmente:  2\n",
      "2020-09-20 20:48:25.197426\n",
      "\n",
      "x é atualmente:  3\n",
      "2020-09-20 20:48:25.197426\n",
      "\n",
      "x é atualmente:  4\n",
      "2020-09-20 20:48:25.197426\n",
      "\n",
      "x é atualmente:  5\n",
      "2020-09-20 20:48:25.197426\n",
      "\n",
      "x é atualmente:  6\n",
      "2020-09-20 20:48:25.198424\n",
      "\n",
      "x é atualmente:  7\n",
      "2020-09-20 20:48:25.198424\n",
      "\n",
      "x é atualmente:  8\n",
      "2020-09-20 20:48:25.198424\n",
      "\n",
      "x é atualmente:  9\n",
      "2020-09-20 20:48:25.198424\n",
      "\n"
     ]
    }
   ],
   "source": [
    "x = 0\n",
    "\n",
    "while x < 10:\n",
    "    print('x é atualmente: ',x)\n",
    "    print(datetime.now())\n",
    "    print('')\n",
    "    \n",
    "    x += 1"
   ]
  },
  {
   "cell_type": "markdown",
   "metadata": {},
   "source": [
    "# Break, continue"
   ]
  },
  {
   "cell_type": "code",
   "execution_count": 6,
   "metadata": {
    "ExecuteTime": {
     "end_time": "2020-09-20T23:52:19.084948Z",
     "start_time": "2020-09-20T23:52:19.057899Z"
    }
   },
   "outputs": [
    {
     "name": "stdout",
     "output_type": "stream",
     "text": [
      "x é atualmente:  0\n",
      "2020-09-20 20:52:19.063952\n",
      "\n",
      "continuando...\n",
      "x é atualmente:  1\n",
      "2020-09-20 20:52:19.063952\n",
      "\n",
      "continuando...\n",
      "x é atualmente:  2\n",
      "2020-09-20 20:52:19.064899\n",
      "\n",
      "parando porque x== 3\n",
      "x é atualmente:  3\n",
      "2020-09-20 20:52:19.064899\n",
      "\n",
      "continuando...\n",
      "x é atualmente:  4\n",
      "2020-09-20 20:52:19.064899\n",
      "\n",
      "continuando...\n",
      "x é atualmente:  5\n",
      "2020-09-20 20:52:19.065896\n",
      "\n",
      "continuando...\n",
      "x é atualmente:  6\n",
      "2020-09-20 20:52:19.065896\n",
      "\n",
      "continuando...\n",
      "x é atualmente:  7\n",
      "2020-09-20 20:52:19.065896\n",
      "\n",
      "continuando...\n",
      "x é atualmente:  8\n",
      "2020-09-20 20:52:19.066896\n",
      "\n",
      "continuando...\n",
      "x é atualmente:  9\n",
      "2020-09-20 20:52:19.066896\n",
      "\n",
      "continuando...\n"
     ]
    }
   ],
   "source": [
    "x = 0\n",
    "\n",
    "while x < 10:\n",
    "    print('x é atualmente: ',x)\n",
    "    print(datetime.now())\n",
    "    print('')\n",
    "    x += 1\n",
    "\n",
    "    if x==3:\n",
    "        print('parando porque x== 3')\n",
    "    else:\n",
    "        print('continuando...')\n",
    "        continue"
   ]
  },
  {
   "cell_type": "code",
   "execution_count": null,
   "metadata": {},
   "outputs": [],
   "source": []
  }
 ],
 "metadata": {
  "kernelspec": {
   "display_name": "Python 3",
   "language": "python",
   "name": "python3"
  },
  "language_info": {
   "codemirror_mode": {
    "name": "ipython",
    "version": 3
   },
   "file_extension": ".py",
   "mimetype": "text/x-python",
   "name": "python",
   "nbconvert_exporter": "python",
   "pygments_lexer": "ipython3",
   "version": "3.8.3"
  }
 },
 "nbformat": 4,
 "nbformat_minor": 4
}
