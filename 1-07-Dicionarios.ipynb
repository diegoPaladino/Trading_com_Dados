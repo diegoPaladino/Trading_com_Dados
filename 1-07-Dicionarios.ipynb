{
 "cells": [
  {
   "cell_type": "code",
   "execution_count": 12,
   "metadata": {
    "ExecuteTime": {
     "end_time": "2020-09-19T14:21:32.624009Z",
     "start_time": "2020-09-19T14:21:32.608013Z"
    }
   },
   "outputs": [],
   "source": [
    "meu_dict = {'chave1': 'valor1',\n",
    "            'chave2': 'valor2',\n",
    "            'chave3': 'valor3'}"
   ]
  },
  {
   "cell_type": "code",
   "execution_count": 13,
   "metadata": {
    "ExecuteTime": {
     "end_time": "2020-09-19T14:21:34.973502Z",
     "start_time": "2020-09-19T14:21:34.959492Z"
    }
   },
   "outputs": [
    {
     "data": {
      "text/plain": [
       "{'chave1': 'valor1', 'chave2': 'valor2', 'chave3': 'valor3'}"
      ]
     },
     "execution_count": 13,
     "metadata": {},
     "output_type": "execute_result"
    }
   ],
   "source": [
    "meu_dict"
   ]
  },
  {
   "cell_type": "code",
   "execution_count": 14,
   "metadata": {
    "ExecuteTime": {
     "end_time": "2020-09-19T14:21:36.996014Z",
     "start_time": "2020-09-19T14:21:36.987014Z"
    }
   },
   "outputs": [
    {
     "data": {
      "text/plain": [
       "dict_keys(['chave1', 'chave2', 'chave3'])"
      ]
     },
     "execution_count": 14,
     "metadata": {},
     "output_type": "execute_result"
    }
   ],
   "source": [
    "meu_dict.keys()"
   ]
  },
  {
   "cell_type": "code",
   "execution_count": 15,
   "metadata": {
    "ExecuteTime": {
     "end_time": "2020-09-19T14:21:38.467216Z",
     "start_time": "2020-09-19T14:21:38.452218Z"
    }
   },
   "outputs": [
    {
     "data": {
      "text/plain": [
       "dict_values(['valor1', 'valor2', 'valor3'])"
      ]
     },
     "execution_count": 15,
     "metadata": {},
     "output_type": "execute_result"
    }
   ],
   "source": [
    "meu_dict.values()"
   ]
  },
  {
   "cell_type": "code",
   "execution_count": 16,
   "metadata": {
    "ExecuteTime": {
     "end_time": "2020-09-19T14:21:39.983207Z",
     "start_time": "2020-09-19T14:21:39.974210Z"
    }
   },
   "outputs": [
    {
     "data": {
      "text/plain": [
       "dict_items([('chave1', 'valor1'), ('chave2', 'valor2'), ('chave3', 'valor3')])"
      ]
     },
     "execution_count": 16,
     "metadata": {},
     "output_type": "execute_result"
    }
   ],
   "source": [
    "meu_dict.items()"
   ]
  },
  {
   "cell_type": "code",
   "execution_count": 39,
   "metadata": {
    "ExecuteTime": {
     "end_time": "2020-09-19T14:43:52.408838Z",
     "start_time": "2020-09-19T14:43:52.388840Z"
    }
   },
   "outputs": [
    {
     "data": {
      "text/plain": [
       "{'chave1': 123,\n",
       " 'chave2': [1, 2, 3],\n",
       " 'chave3': ['a', 'b', 'c'],\n",
       " 'chave4': [4.0, 5.2, 6.7]}"
      ]
     },
     "execution_count": 39,
     "metadata": {},
     "output_type": "execute_result"
    }
   ],
   "source": [
    "meu_dict = {'chave1': 123,\n",
    "            'chave2': [1,2,3],\n",
    "            'chave3': ['a','b','c'],\n",
    "            'chave4': [4.0,5.2,6.7]}\n",
    "meu_dict"
   ]
  },
  {
   "cell_type": "code",
   "execution_count": 40,
   "metadata": {
    "ExecuteTime": {
     "end_time": "2020-09-19T14:43:52.425833Z",
     "start_time": "2020-09-19T14:43:52.413834Z"
    }
   },
   "outputs": [
    {
     "data": {
      "text/plain": [
       "123"
      ]
     },
     "execution_count": 40,
     "metadata": {},
     "output_type": "execute_result"
    }
   ],
   "source": [
    "#para acessar dado item\n",
    "meu_dict['chave1']"
   ]
  },
  {
   "cell_type": "code",
   "execution_count": 41,
   "metadata": {
    "ExecuteTime": {
     "end_time": "2020-09-19T14:43:52.440831Z",
     "start_time": "2020-09-19T14:43:52.431830Z"
    }
   },
   "outputs": [
    {
     "data": {
      "text/plain": [
       "dict_items([('chave1', 0), ('chave2', [1, 2, 3]), ('chave3', ['a', 'b', 'c']), ('chave4', [4.0, 5.2, 6.7])])"
      ]
     },
     "execution_count": 41,
     "metadata": {},
     "output_type": "execute_result"
    }
   ],
   "source": [
    "meu_dict['chave1'] = 0\n",
    "meu_dict.items()"
   ]
  },
  {
   "cell_type": "code",
   "execution_count": 42,
   "metadata": {
    "ExecuteTime": {
     "end_time": "2020-09-19T14:43:52.458827Z",
     "start_time": "2020-09-19T14:43:52.448825Z"
    }
   },
   "outputs": [],
   "source": [
    "meu_dict['cachorro'] = 'lulu da pomerania'\n",
    "meu_dict['idade'] = 42"
   ]
  },
  {
   "cell_type": "code",
   "execution_count": 43,
   "metadata": {
    "ExecuteTime": {
     "end_time": "2020-09-19T14:43:52.472820Z",
     "start_time": "2020-09-19T14:43:52.464822Z"
    }
   },
   "outputs": [
    {
     "data": {
      "text/plain": [
       "dict_items([('chave1', 0), ('chave2', [1, 2, 3]), ('chave3', ['a', 'b', 'c']), ('chave4', [4.0, 5.2, 6.7]), ('cachorro', 'lulu da pomerania'), ('idade', 42)])"
      ]
     },
     "execution_count": 43,
     "metadata": {},
     "output_type": "execute_result"
    }
   ],
   "source": [
    "meu_dict.items()"
   ]
  }
 ],
 "metadata": {
  "kernelspec": {
   "display_name": "Python 3",
   "language": "python",
   "name": "python3"
  },
  "language_info": {
   "codemirror_mode": {
    "name": "ipython",
    "version": 3
   },
   "file_extension": ".py",
   "mimetype": "text/x-python",
   "name": "python",
   "nbconvert_exporter": "python",
   "pygments_lexer": "ipython3",
   "version": "3.8.3"
  }
 },
 "nbformat": 4,
 "nbformat_minor": 4
}
