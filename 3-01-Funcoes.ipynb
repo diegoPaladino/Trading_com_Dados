{
 "cells": [
  {
   "cell_type": "code",
   "execution_count": 1,
   "metadata": {
    "ExecuteTime": {
     "end_time": "2020-09-23T20:44:14.202524Z",
     "start_time": "2020-09-23T20:44:14.181579Z"
    }
   },
   "outputs": [
    {
     "data": {
      "text/plain": [
       "[27, 99, 23, 65, 45, 0]"
      ]
     },
     "execution_count": 1,
     "metadata": {},
     "output_type": "execute_result"
    }
   ],
   "source": [
    "from random import randint\n",
    "\n",
    "lista = []\n",
    "for _ in range(0,6):\n",
    "    lista.append(randint(0,100))\n",
    "lista"
   ]
  },
  {
   "cell_type": "code",
   "execution_count": 2,
   "metadata": {
    "ExecuteTime": {
     "end_time": "2020-09-23T20:44:33.588266Z",
     "start_time": "2020-09-23T20:44:33.572275Z"
    }
   },
   "outputs": [],
   "source": [
    "lista.sort()"
   ]
  },
  {
   "cell_type": "code",
   "execution_count": 3,
   "metadata": {
    "ExecuteTime": {
     "end_time": "2020-09-23T20:44:37.127359Z",
     "start_time": "2020-09-23T20:44:37.109349Z"
    }
   },
   "outputs": [
    {
     "data": {
      "text/plain": [
       "[0, 23, 27, 45, 65, 99]"
      ]
     },
     "execution_count": 3,
     "metadata": {},
     "output_type": "execute_result"
    }
   ],
   "source": [
    "lista"
   ]
  },
  {
   "cell_type": "code",
   "execution_count": null,
   "metadata": {},
   "outputs": [],
   "source": [
    "#função\n",
    "def soma(num1, num2):\n",
    "    "
   ]
  }
 ],
 "metadata": {
  "kernelspec": {
   "display_name": "Python 3",
   "language": "python",
   "name": "python3"
  },
  "language_info": {
   "codemirror_mode": {
    "name": "ipython",
    "version": 3
   },
   "file_extension": ".py",
   "mimetype": "text/x-python",
   "name": "python",
   "nbconvert_exporter": "python",
   "pygments_lexer": "ipython3",
   "version": "3.8.3"
  }
 },
 "nbformat": 4,
 "nbformat_minor": 4
}
