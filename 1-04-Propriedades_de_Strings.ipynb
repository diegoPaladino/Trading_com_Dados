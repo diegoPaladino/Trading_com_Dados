{
 "cells": [
  {
   "cell_type": "markdown",
   "metadata": {
    "ExecuteTime": {
     "end_time": "2020-09-18T20:57:58.012184Z",
     "start_time": "2020-09-18T20:57:57.579288Z"
    }
   },
   "source": [
    "# Propriedades_de_Strings"
   ]
  },
  {
   "cell_type": "code",
   "execution_count": 31,
   "metadata": {
    "ExecuteTime": {
     "end_time": "2020-09-19T10:20:19.400399Z",
     "start_time": "2020-09-19T10:20:19.382408Z"
    }
   },
   "outputs": [],
   "source": [
    "#string da aula anterior, mas necessária nesta:\n",
    "mussum = \"Tá deprimidis, eu conheco uma cachacis que pode alegrar sua vidis\""
   ]
  },
  {
   "cell_type": "code",
   "execution_count": 32,
   "metadata": {
    "ExecuteTime": {
     "end_time": "2020-09-19T10:20:23.392452Z",
     "start_time": "2020-09-19T10:20:23.374457Z"
    }
   },
   "outputs": [
    {
     "ename": "NameError",
     "evalue": "name 'mussums' is not defined",
     "output_type": "error",
     "traceback": [
      "\u001b[1;31m---------------------------------------------------------------------------\u001b[0m",
      "\u001b[1;31mNameError\u001b[0m                                 Traceback (most recent call last)",
      "\u001b[1;32m<ipython-input-32-b400e4e8497c>\u001b[0m in \u001b[0;36m<module>\u001b[1;34m\u001b[0m\n\u001b[1;32m----> 1\u001b[1;33m \u001b[0mmussums\u001b[0m\u001b[1;33m[\u001b[0m\u001b[1;36m0\u001b[0m\u001b[1;33m]\u001b[0m \u001b[1;33m=\u001b[0m \u001b[1;34m'x'\u001b[0m\u001b[1;33m\u001b[0m\u001b[1;33m\u001b[0m\u001b[0m\n\u001b[0m",
      "\u001b[1;31mNameError\u001b[0m: name 'mussums' is not defined"
     ]
    }
   ],
   "source": [
    "mussums[0] = 'x'"
   ]
  },
  {
   "cell_type": "code",
   "execution_count": 33,
   "metadata": {
    "ExecuteTime": {
     "end_time": "2020-09-19T10:20:24.956135Z",
     "start_time": "2020-09-19T10:20:24.942086Z"
    }
   },
   "outputs": [
    {
     "data": {
      "text/plain": [
       "'Tá deprimidis, eu conheco uma cachacis que pode alegrar sua vidis pra sempris!'"
      ]
     },
     "execution_count": 33,
     "metadata": {},
     "output_type": "execute_result"
    }
   ],
   "source": [
    "mussum = mussum + ' pra sempris!'\n",
    "mussum"
   ]
  },
  {
   "cell_type": "code",
   "execution_count": 34,
   "metadata": {
    "ExecuteTime": {
     "end_time": "2020-09-19T10:20:40.815343Z",
     "start_time": "2020-09-19T10:20:40.793317Z"
    }
   },
   "outputs": [
    {
     "data": {
      "text/plain": [
       "78"
      ]
     },
     "execution_count": 34,
     "metadata": {},
     "output_type": "execute_result"
    }
   ],
   "source": [
    "len(mussum)"
   ]
  },
  {
   "cell_type": "code",
   "execution_count": 36,
   "metadata": {
    "ExecuteTime": {
     "end_time": "2020-09-19T10:20:56.140722Z",
     "start_time": "2020-09-19T10:20:56.126672Z"
    }
   },
   "outputs": [
    {
     "data": {
      "text/plain": [
       "'Tá deprimidis, eu conheco uma cachacis que pode alegrar sua vidis pra sempris!'"
      ]
     },
     "execution_count": 36,
     "metadata": {},
     "output_type": "execute_result"
    }
   ],
   "source": [
    "mussum.upper()\n",
    "mussum"
   ]
  },
  {
   "cell_type": "code",
   "execution_count": 37,
   "metadata": {
    "ExecuteTime": {
     "end_time": "2020-09-19T10:20:58.886067Z",
     "start_time": "2020-09-19T10:20:58.878020Z"
    }
   },
   "outputs": [
    {
     "data": {
      "text/plain": [
       "'Tá deprimidis, eu conheco uma cachacis que pode alegrar sua vidis pra sempris!'"
      ]
     },
     "execution_count": 37,
     "metadata": {},
     "output_type": "execute_result"
    }
   ],
   "source": [
    "mussum.lower()\n",
    "mussum"
   ]
  },
  {
   "cell_type": "code",
   "execution_count": 38,
   "metadata": {
    "ExecuteTime": {
     "end_time": "2020-09-19T10:21:01.102487Z",
     "start_time": "2020-09-19T10:21:01.094495Z"
    }
   },
   "outputs": [
    {
     "data": {
      "text/plain": [
       "'TÁ DEPRIMIDIS, EU CONHECO UMA CACHACIS QUE PODE ALEGRAR SUA VIDIS PRA SEMPRIS!'"
      ]
     },
     "execution_count": 38,
     "metadata": {},
     "output_type": "execute_result"
    }
   ],
   "source": [
    "mussum = mussum.upper()\n",
    "mussum"
   ]
  },
  {
   "cell_type": "code",
   "execution_count": 39,
   "metadata": {
    "ExecuteTime": {
     "end_time": "2020-09-19T10:21:02.970044Z",
     "start_time": "2020-09-19T10:21:02.951104Z"
    }
   },
   "outputs": [
    {
     "data": {
      "text/plain": [
       "'TÁ DEPRIMIDIS, EU CONHECO UMA CACHACIS QUE PODE ALEGRAR SUA VIDIS PRA SEMPRIS!'"
      ]
     },
     "execution_count": 39,
     "metadata": {},
     "output_type": "execute_result"
    }
   ],
   "source": [
    "mussum.lower()\n",
    "mussum"
   ]
  },
  {
   "cell_type": "code",
   "execution_count": 40,
   "metadata": {
    "ExecuteTime": {
     "end_time": "2020-09-19T10:21:04.978567Z",
     "start_time": "2020-09-19T10:21:04.958572Z"
    }
   },
   "outputs": [
    {
     "data": {
      "text/plain": [
       "'tá deprimidis, eu conheco uma cachacis que pode alegrar sua vidis pra sempris!'"
      ]
     },
     "execution_count": 40,
     "metadata": {},
     "output_type": "execute_result"
    }
   ],
   "source": [
    "mussum = mussum.lower()\n",
    "mussum"
   ]
  },
  {
   "cell_type": "code",
   "execution_count": 42,
   "metadata": {
    "ExecuteTime": {
     "end_time": "2020-09-19T10:21:37.303477Z",
     "start_time": "2020-09-19T10:21:37.282483Z"
    }
   },
   "outputs": [
    {
     "data": {
      "text/plain": [
       "['tá',\n",
       " 'deprimidis,',\n",
       " 'eu',\n",
       " 'conheco',\n",
       " 'uma',\n",
       " 'cachacis',\n",
       " 'que',\n",
       " 'pode',\n",
       " 'alegrar',\n",
       " 'sua',\n",
       " 'vidis',\n",
       " 'pra',\n",
       " 'sempris!']"
      ]
     },
     "execution_count": 42,
     "metadata": {},
     "output_type": "execute_result"
    }
   ],
   "source": [
    "mussum.split()"
   ]
  },
  {
   "cell_type": "code",
   "execution_count": null,
   "metadata": {},
   "outputs": [],
   "source": []
  }
 ],
 "metadata": {
  "kernelspec": {
   "display_name": "Python 3",
   "language": "python",
   "name": "python3"
  },
  "language_info": {
   "codemirror_mode": {
    "name": "ipython",
    "version": 3
   },
   "file_extension": ".py",
   "mimetype": "text/x-python",
   "name": "python",
   "nbconvert_exporter": "python",
   "pygments_lexer": "ipython3",
   "version": "3.8.3"
  }
 },
 "nbformat": 4,
 "nbformat_minor": 4
}
