{
 "cells": [
  {
   "cell_type": "markdown",
   "metadata": {},
   "source": [
    "# enumerate"
   ]
  },
  {
   "cell_type": "code",
   "execution_count": 2,
   "metadata": {
    "ExecuteTime": {
     "end_time": "2020-09-21T23:31:05.686645Z",
     "start_time": "2020-09-21T23:31:05.663597Z"
    }
   },
   "outputs": [
    {
     "name": "stdout",
     "output_type": "stream",
     "text": [
      "No indice: 0 a letra é a\n",
      "No indice: 1 a letra é b\n",
      "No indice: 2 a letra é c\n",
      "No indice: 3 a letra é d\n",
      "No indice: 4 a letra é e\n"
     ]
    }
   ],
   "source": [
    "index_cont = 0\n",
    "\n",
    "for letra in 'abcde':\n",
    "    print(f'No indice: {index_cont} a letra é {letra}') #essa estrutura chama-se 'xtring'\n",
    "    index_cont +=1"
   ]
  },
  {
   "cell_type": "code",
   "execution_count": 3,
   "metadata": {
    "ExecuteTime": {
     "end_time": "2020-09-21T23:44:54.566019Z",
     "start_time": "2020-09-21T23:44:54.547029Z"
    }
   },
   "outputs": [
    {
     "name": "stdout",
     "output_type": "stream",
     "text": [
      "No indice: 0 a letra é a\n",
      "No indice: 1 a letra é b\n",
      "No indice: 2 a letra é c\n",
      "No indice: 3 a letra é d\n",
      "No indice: 4 a letra é e\n"
     ]
    }
   ],
   "source": [
    "for i, letra in enumerate('abcde'):\n",
    "    print(f'No indice: {i} a letra é {letra}')"
   ]
  },
  {
   "cell_type": "markdown",
   "metadata": {},
   "source": [
    "# zip"
   ]
  },
  {
   "cell_type": "code",
   "execution_count": 5,
   "metadata": {
    "ExecuteTime": {
     "end_time": "2020-09-21T23:49:55.495398Z",
     "start_time": "2020-09-21T23:49:55.482406Z"
    }
   },
   "outputs": [],
   "source": [
    "lst_arma = ['nunchaku','katana','bastao','sai']\n",
    "lst_tartaruga_ninja = ['Michelangelo','Leonardo','Donatello','Raphael']"
   ]
  },
  {
   "cell_type": "code",
   "execution_count": 6,
   "metadata": {
    "ExecuteTime": {
     "end_time": "2020-09-21T23:50:09.900022Z",
     "start_time": "2020-09-21T23:50:09.869030Z"
    }
   },
   "outputs": [
    {
     "data": {
      "text/plain": [
       "[('Michelangelo', 'nunchaku'),\n",
       " ('Leonardo', 'katana'),\n",
       " ('Donatello', 'bastao'),\n",
       " ('Raphael', 'sai')]"
      ]
     },
     "execution_count": 6,
     "metadata": {},
     "output_type": "execute_result"
    }
   ],
   "source": [
    "list(zip(lst_tartaruga_ninja, lst_arma))"
   ]
  },
  {
   "cell_type": "code",
   "execution_count": 7,
   "metadata": {
    "ExecuteTime": {
     "end_time": "2020-09-21T23:56:25.794048Z",
     "start_time": "2020-09-21T23:56:25.778000Z"
    }
   },
   "outputs": [
    {
     "name": "stdout",
     "output_type": "stream",
     "text": [
      "A arma do Michelangelo é nunchaku\n",
      "A arma do Leonardo é katana\n",
      "A arma do Donatello é bastao\n",
      "A arma do Raphael é sai\n"
     ]
    }
   ],
   "source": [
    "for tartaruga, arma in zip(lst_tartaruga_ninja, lst_arma):\n",
    "    print(f'A arma do {tartaruga} é {arma}')"
   ]
  },
  {
   "cell_type": "markdown",
   "metadata": {},
   "source": [
    "# in"
   ]
  },
  {
   "cell_type": "code",
   "execution_count": 8,
   "metadata": {
    "ExecuteTime": {
     "end_time": "2020-09-21T23:57:39.539900Z",
     "start_time": "2020-09-21T23:57:39.521873Z"
    }
   },
   "outputs": [
    {
     "data": {
      "text/plain": [
       "False"
      ]
     },
     "execution_count": 8,
     "metadata": {},
     "output_type": "execute_result"
    }
   ],
   "source": [
    "'Splinter' in lst_tartaruga_ninja"
   ]
  },
  {
   "cell_type": "code",
   "execution_count": 9,
   "metadata": {
    "ExecuteTime": {
     "end_time": "2020-09-21T23:57:56.955550Z",
     "start_time": "2020-09-21T23:57:56.936553Z"
    }
   },
   "outputs": [
    {
     "data": {
      "text/plain": [
       "True"
      ]
     },
     "execution_count": 9,
     "metadata": {},
     "output_type": "execute_result"
    }
   ],
   "source": [
    "'Raphael' in lst_tartaruga_ninja"
   ]
  },
  {
   "cell_type": "markdown",
   "metadata": {},
   "source": [
    "# random"
   ]
  },
  {
   "cell_type": "code",
   "execution_count": 11,
   "metadata": {
    "ExecuteTime": {
     "end_time": "2020-09-22T00:01:25.782378Z",
     "start_time": "2020-09-22T00:01:25.768383Z"
    }
   },
   "outputs": [],
   "source": [
    "from random import randint, shuffle"
   ]
  },
  {
   "cell_type": "code",
   "execution_count": 12,
   "metadata": {
    "ExecuteTime": {
     "end_time": "2020-09-22T00:03:15.563676Z",
     "start_time": "2020-09-22T00:03:15.546626Z"
    }
   },
   "outputs": [],
   "source": [
    "lista_rand = []\n",
    "\n",
    "for i in range(0, 5):\n",
    "    lista_rand.append(randint(0,100))"
   ]
  },
  {
   "cell_type": "code",
   "execution_count": 13,
   "metadata": {
    "ExecuteTime": {
     "end_time": "2020-09-22T00:03:22.604313Z",
     "start_time": "2020-09-22T00:03:22.593316Z"
    }
   },
   "outputs": [
    {
     "data": {
      "text/plain": [
       "[89, 100, 87, 49, 16]"
      ]
     },
     "execution_count": 13,
     "metadata": {},
     "output_type": "execute_result"
    }
   ],
   "source": [
    "lista_rand"
   ]
  },
  {
   "cell_type": "code",
   "execution_count": 14,
   "metadata": {
    "ExecuteTime": {
     "end_time": "2020-09-22T00:03:46.288393Z",
     "start_time": "2020-09-22T00:03:46.271366Z"
    }
   },
   "outputs": [],
   "source": [
    "shuffle(lista_rand)"
   ]
  },
  {
   "cell_type": "code",
   "execution_count": 15,
   "metadata": {
    "ExecuteTime": {
     "end_time": "2020-09-22T00:03:53.832905Z",
     "start_time": "2020-09-22T00:03:53.823855Z"
    }
   },
   "outputs": [
    {
     "data": {
      "text/plain": [
       "[89, 16, 87, 49, 100]"
      ]
     },
     "execution_count": 15,
     "metadata": {},
     "output_type": "execute_result"
    }
   ],
   "source": [
    "lista_rand"
   ]
  },
  {
   "cell_type": "markdown",
   "metadata": {},
   "source": [
    "# min e max"
   ]
  },
  {
   "cell_type": "code",
   "execution_count": 16,
   "metadata": {
    "ExecuteTime": {
     "end_time": "2020-09-22T00:05:53.778407Z",
     "start_time": "2020-09-22T00:05:53.760417Z"
    }
   },
   "outputs": [
    {
     "data": {
      "text/plain": [
       "16"
      ]
     },
     "execution_count": 16,
     "metadata": {},
     "output_type": "execute_result"
    }
   ],
   "source": [
    "min(lista_rand)"
   ]
  },
  {
   "cell_type": "code",
   "execution_count": 17,
   "metadata": {
    "ExecuteTime": {
     "end_time": "2020-09-22T00:06:05.231150Z",
     "start_time": "2020-09-22T00:06:05.216102Z"
    }
   },
   "outputs": [
    {
     "data": {
      "text/plain": [
       "100"
      ]
     },
     "execution_count": 17,
     "metadata": {},
     "output_type": "execute_result"
    }
   ],
   "source": [
    "max(lista_rand)"
   ]
  },
  {
   "cell_type": "markdown",
   "metadata": {},
   "source": [
    "# input"
   ]
  },
  {
   "cell_type": "code",
   "execution_count": 19,
   "metadata": {
    "ExecuteTime": {
     "end_time": "2020-09-22T00:09:29.926611Z",
     "start_time": "2020-09-22T00:09:19.880613Z"
    }
   },
   "outputs": [
    {
     "name": "stdout",
     "output_type": "stream",
     "text": [
      "Insira seu nome: Paladios\n",
      "Olá: Paladios\n"
     ]
    }
   ],
   "source": [
    "nome = input('Insira seu nome: ')\n",
    "print(f'Olá: {nome}')"
   ]
  },
  {
   "cell_type": "code",
   "execution_count": null,
   "metadata": {},
   "outputs": [],
   "source": []
  }
 ],
 "metadata": {
  "kernelspec": {
   "display_name": "Python 3",
   "language": "python",
   "name": "python3"
  },
  "language_info": {
   "codemirror_mode": {
    "name": "ipython",
    "version": 3
   },
   "file_extension": ".py",
   "mimetype": "text/x-python",
   "name": "python",
   "nbconvert_exporter": "python",
   "pygments_lexer": "ipython3",
   "version": "3.8.3"
  }
 },
 "nbformat": 4,
 "nbformat_minor": 4
}
