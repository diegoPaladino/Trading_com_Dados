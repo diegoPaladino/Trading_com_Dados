{
 "cells": [
  {
   "cell_type": "code",
   "execution_count": 1,
   "metadata": {
    "ExecuteTime": {
     "end_time": "2020-09-23T20:50:17.983985Z",
     "start_time": "2020-09-23T20:50:17.969989Z"
    }
   },
   "outputs": [],
   "source": [
    "def siga_oi():\n",
    "    print('oi')"
   ]
  },
  {
   "cell_type": "code",
   "execution_count": 2,
   "metadata": {
    "ExecuteTime": {
     "end_time": "2020-09-23T20:50:22.799394Z",
     "start_time": "2020-09-23T20:50:22.782397Z"
    }
   },
   "outputs": [
    {
     "name": "stdout",
     "output_type": "stream",
     "text": [
      "oi\n"
     ]
    }
   ],
   "source": [
    "siga_oi()"
   ]
  },
  {
   "cell_type": "code",
   "execution_count": 4,
   "metadata": {
    "ExecuteTime": {
     "end_time": "2020-09-23T20:54:13.929356Z",
     "start_time": "2020-09-23T20:54:13.912358Z"
    }
   },
   "outputs": [],
   "source": [
    "def num_primo(num):\n",
    "    '''\n",
    "    #DOCSTRING\n",
    "    funcao para checar se o número é primo\n",
    "    '''\n",
    "    for n in range(2,num):\n",
    "        if num % n == 0:\n",
    "            print(num, 'não é primo')\n",
    "            \n",
    "        else:\n",
    "            print(num, 'é primo')\n",
    "    "
   ]
  },
  {
   "cell_type": "code",
   "execution_count": 6,
   "metadata": {
    "ExecuteTime": {
     "end_time": "2020-09-23T20:54:26.243170Z",
     "start_time": "2020-09-23T20:54:26.222177Z"
    }
   },
   "outputs": [
    {
     "name": "stdout",
     "output_type": "stream",
     "text": [
      "16 não é primo\n",
      "16 é primo\n",
      "16 não é primo\n",
      "16 é primo\n",
      "16 é primo\n",
      "16 é primo\n",
      "16 não é primo\n",
      "16 é primo\n",
      "16 é primo\n",
      "16 é primo\n",
      "16 é primo\n",
      "16 é primo\n",
      "16 é primo\n",
      "16 é primo\n"
     ]
    }
   ],
   "source": [
    "num_primo(16)"
   ]
  },
  {
   "cell_type": "code",
   "execution_count": null,
   "metadata": {},
   "outputs": [],
   "source": []
  }
 ],
 "metadata": {
  "kernelspec": {
   "display_name": "Python 3",
   "language": "python",
   "name": "python3"
  },
  "language_info": {
   "codemirror_mode": {
    "name": "ipython",
    "version": 3
   },
   "file_extension": ".py",
   "mimetype": "text/x-python",
   "name": "python",
   "nbconvert_exporter": "python",
   "pygments_lexer": "ipython3",
   "version": "3.8.3"
  }
 },
 "nbformat": 4,
 "nbformat_minor": 4
}
