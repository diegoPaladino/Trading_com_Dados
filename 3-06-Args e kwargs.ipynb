{
 "cells": [
  {
   "cell_type": "markdown",
   "metadata": {},
   "source": [
    "# args e kwargs"
   ]
  },
  {
   "cell_type": "code",
   "execution_count": 3,
   "metadata": {
    "ExecuteTime": {
     "end_time": "2020-09-24T18:55:38.411069Z",
     "start_time": "2020-09-24T18:55:38.397076Z"
    }
   },
   "outputs": [],
   "source": [
    "def soma(a, b ):\n",
    "    soma = sum((a, b))\n",
    "    return soma"
   ]
  },
  {
   "cell_type": "code",
   "execution_count": 4,
   "metadata": {
    "ExecuteTime": {
     "end_time": "2020-09-24T18:55:39.187585Z",
     "start_time": "2020-09-24T18:55:39.164592Z"
    }
   },
   "outputs": [
    {
     "data": {
      "text/plain": [
       "7"
      ]
     },
     "execution_count": 4,
     "metadata": {},
     "output_type": "execute_result"
    }
   ],
   "source": [
    "soma(3,4)"
   ]
  },
  {
   "cell_type": "code",
   "execution_count": 7,
   "metadata": {
    "ExecuteTime": {
     "end_time": "2020-09-24T18:56:08.912670Z",
     "start_time": "2020-09-24T18:56:08.903696Z"
    }
   },
   "outputs": [],
   "source": [
    "def soma(a, b, c ):\n",
    "    soma = sum((a, b, c))\n",
    "    return soma"
   ]
  },
  {
   "cell_type": "code",
   "execution_count": 8,
   "metadata": {
    "ExecuteTime": {
     "end_time": "2020-09-24T18:56:09.418586Z",
     "start_time": "2020-09-24T18:56:09.399559Z"
    }
   },
   "outputs": [
    {
     "data": {
      "text/plain": [
       "12"
      ]
     },
     "execution_count": 8,
     "metadata": {},
     "output_type": "execute_result"
    }
   ],
   "source": [
    "soma(3,4, 5)"
   ]
  },
  {
   "cell_type": "code",
   "execution_count": 9,
   "metadata": {
    "ExecuteTime": {
     "end_time": "2020-09-24T18:56:50.311562Z",
     "start_time": "2020-09-24T18:56:50.292535Z"
    }
   },
   "outputs": [],
   "source": [
    "def soma(a=0, b=0, c=0 ):\n",
    "    soma = sum((a, b, c))\n",
    "    return soma"
   ]
  },
  {
   "cell_type": "code",
   "execution_count": 10,
   "metadata": {
    "ExecuteTime": {
     "end_time": "2020-09-24T18:57:54.685648Z",
     "start_time": "2020-09-24T18:57:54.677609Z"
    }
   },
   "outputs": [],
   "source": [
    "#manutenção fica extensa e dispendiosa, portanto utiliza-se o args(arguimentos):\n",
    "def soma(*args):\n",
    "    return sum(args)"
   ]
  },
  {
   "cell_type": "code",
   "execution_count": 11,
   "metadata": {
    "ExecuteTime": {
     "end_time": "2020-09-24T18:58:01.070808Z",
     "start_time": "2020-09-24T18:58:01.047814Z"
    }
   },
   "outputs": [
    {
     "data": {
      "text/plain": [
       "14"
      ]
     },
     "execution_count": 11,
     "metadata": {},
     "output_type": "execute_result"
    }
   ],
   "source": [
    "soma(2,3,9)"
   ]
  },
  {
   "cell_type": "code",
   "execution_count": 14,
   "metadata": {
    "ExecuteTime": {
     "end_time": "2020-09-24T19:01:13.535930Z",
     "start_time": "2020-09-24T19:01:13.518936Z"
    }
   },
   "outputs": [],
   "source": [
    "#kwargs -> key words arguments\n",
    "def fruta(**kwargs):\n",
    "    if 'fruta' in kwargs:\n",
    "        print(f'Minha fruta favorita é {kwargs[\"fruta\"]}')\n",
    "    else:\n",
    "        print('Eu não gosto de frutas')"
   ]
  },
  {
   "cell_type": "code",
   "execution_count": 15,
   "metadata": {
    "ExecuteTime": {
     "end_time": "2020-09-24T19:01:35.789757Z",
     "start_time": "2020-09-24T19:01:35.775757Z"
    }
   },
   "outputs": [
    {
     "name": "stdout",
     "output_type": "stream",
     "text": [
      "Minha fruta favorita é siriguela\n"
     ]
    }
   ],
   "source": [
    "fruta(fruta = 'siriguela')"
   ]
  },
  {
   "cell_type": "code",
   "execution_count": 16,
   "metadata": {
    "ExecuteTime": {
     "end_time": "2020-09-24T19:04:33.442458Z",
     "start_time": "2020-09-24T19:04:33.429456Z"
    }
   },
   "outputs": [],
   "source": [
    "def gosto(*args, **kwargs):\n",
    "    if 'fruta' and 'suco' in kwargs:\n",
    "        print(f'Eu gosto de {\" e \".join(args)}')\n",
    "        print(f'Minha fruta favorita é {kwargs[\"fruta\"]}')\n",
    "        print(f'Meu suco favorito é de {kwargs[\"suco\"]}')\n",
    "    else:\n",
    "        pass"
   ]
  },
  {
   "cell_type": "code",
   "execution_count": 18,
   "metadata": {
    "ExecuteTime": {
     "end_time": "2020-09-24T19:05:58.836906Z",
     "start_time": "2020-09-24T19:05:58.830908Z"
    }
   },
   "outputs": [
    {
     "name": "stdout",
     "output_type": "stream",
     "text": [
      "Eu gosto de charque e tucupi tacacá\n",
      "Minha fruta favorita é siriguela\n",
      "Meu suco favorito é de camu camu\n"
     ]
    }
   ],
   "source": [
    "gosto('charque','tucupi tacacá',fruta = 'siriguela', suco = 'camu camu')"
   ]
  },
  {
   "cell_type": "code",
   "execution_count": null,
   "metadata": {},
   "outputs": [],
   "source": []
  }
 ],
 "metadata": {
  "kernelspec": {
   "display_name": "Python 3",
   "language": "python",
   "name": "python3"
  },
  "language_info": {
   "codemirror_mode": {
    "name": "ipython",
    "version": 3
   },
   "file_extension": ".py",
   "mimetype": "text/x-python",
   "name": "python",
   "nbconvert_exporter": "python",
   "pygments_lexer": "ipython3",
   "version": "3.8.3"
  }
 },
 "nbformat": 4,
 "nbformat_minor": 4
}
